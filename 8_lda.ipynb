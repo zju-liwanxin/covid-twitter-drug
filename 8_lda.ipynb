{
 "cells": [
  {
   "attachments": {},
   "cell_type": "markdown",
   "metadata": {},
   "source": [
    "### LDA"
   ]
  },
  {
   "cell_type": "code",
   "execution_count": 1,
   "metadata": {},
   "outputs": [],
   "source": [
    "import gensim\n",
    "import gensim.corpora as corpora\n",
    "import nltk\n",
    "from nltk.corpus import stopwords\n",
    "import pandas as pd \n",
    "# import modin.pandas as pd\n",
    "# import ray\n",
    "# ray.init(num_cpus=8)\n",
    "from gensim.models import CoherenceModel\n",
    "import matplotlib.pyplot as plt\n",
    "import re\n",
    "import spacy\n",
    "import string \n",
    "from gensim.corpora import Dictionary\n",
    "from gensim.test.utils import get_tmpfile\n",
    "import tqdm as tqdm\n",
    "import glob as glob"
   ]
  },
  {
   "cell_type": "code",
   "execution_count": 2,
   "metadata": {},
   "outputs": [],
   "source": [
    "import nltk\n",
    "nltk.download('stopwords')"
   ]
  },
  {
   "cell_type": "code",
   "execution_count": 4,
   "metadata": {},
   "outputs": [],
   "source": [
    "add_stopwords=['dont','didnt','lol','say','let','wont','ve','do','im','rt','amp']\n",
    "stop_words = set(stopwords.words('english') + ['AT_USER','URL'] + add_stopwords+stop)\n",
    "\n",
    "def process_text(text):\n",
    "    text = str(text)\n",
    "    text = text.lower() # convert text to lower-case\n",
    "    text = ''.join([t for t in text if t not in string.punctuation]) # remove punctuation\n",
    "    text = re.sub( 'http\\S+','',text) # remove URLs\n",
    "    text = re.sub('@\\S+', '',text) # remove usernames\n",
    "    text = re.sub(r'#([^\\s]+)', r'\\1', text) # remove the # in #hashtag\n",
    "    text = re.sub(\"([^\\x00-\\x7F])+\",\" \",text) # remove non-ASCII characters\n",
    "    tkz = nltk.RegexpTokenizer(\"\\\\b[\\\\w-]+\\\\b\")\n",
    "    text = tkz.tokenize(text)\n",
    "\n",
    "    return [word for word in text if word not in stop_words and not word.isnumeric() and len(word) >= 2]"
   ]
  },
  {
   "cell_type": "code",
   "execution_count": 7,
   "metadata": {},
   "outputs": [],
   "source": [
    "data_type = {'created_at':'string','id_str':'string','full_text':'string','user':'object'}\n",
    "#data=pd.read_csv(\"/data_8t/lwx/Drugtweets/ivermectin/ivermectin.csv\",dtype=data_type, lineterminator='\\n',usecols=['id_str','created_at','user','full_text'],low_memory=False, keep_default_na=False)\n",
    "out_dir='/data_8t/lwx/Drugtweets/graphic/'\n",
    "files = sorted(glob.glob('/data_8t/lwx/Drugtweets/graphic/'+\"*.csv\"))"
   ]
  },
  {
   "cell_type": "code",
   "execution_count": 6,
   "metadata": {},
   "outputs": [
    {
     "name": "stderr",
     "output_type": "stream",
     "text": [
      "100%|██████████| 99/99 [01:39<00:00,  1.00s/it]\n"
     ]
    }
   ],
   "source": [
    "data=pd.read_csv('/data_8t/lwx/Drugtweets/graphic/21April_0.csv',dtype=data_type, lineterminator='\\n',usecols=['id_str','created_at','user','full_text'],keep_default_na=False)\n",
    "for file in tqdm.tqdm(files[1:]):\n",
    "    dff = pd.read_csv(file,dtype=data_type, lineterminator='\\n',usecols=['id_str','created_at','user','full_text'],keep_default_na=False)\n",
    "    data=pd.concat([data,dff],axis=0)"
   ]
  },
  {
   "cell_type": "code",
   "execution_count": 7,
   "metadata": {},
   "outputs": [
    {
     "data": {
      "text/html": [
       "<div>\n",
       "<style scoped>\n",
       "    .dataframe tbody tr th:only-of-type {\n",
       "        vertical-align: middle;\n",
       "    }\n",
       "\n",
       "    .dataframe tbody tr th {\n",
       "        vertical-align: top;\n",
       "    }\n",
       "\n",
       "    .dataframe thead th {\n",
       "        text-align: right;\n",
       "    }\n",
       "</style>\n",
       "<table border=\"1\" class=\"dataframe\">\n",
       "  <thead>\n",
       "    <tr style=\"text-align: right;\">\n",
       "      <th></th>\n",
       "      <th>created_at</th>\n",
       "      <th>id_str</th>\n",
       "      <th>full_text</th>\n",
       "      <th>user</th>\n",
       "    </tr>\n",
       "  </thead>\n",
       "  <tbody>\n",
       "    <tr>\n",
       "      <th>0</th>\n",
       "      <td>Tue Apr 06 00:15:28 +0000 2021</td>\n",
       "      <td>1379226213210787841</td>\n",
       "      <td>I have consumed an unhealthy amount of caffein...</td>\n",
       "      <td>{'id': 372976945, 'id_str': '372976945', 'name...</td>\n",
       "    </tr>\n",
       "    <tr>\n",
       "      <th>1</th>\n",
       "      <td>Mon Apr 12 14:22:38 +0000 2021</td>\n",
       "      <td>1381613736012701696</td>\n",
       "      <td>@AhhDamnHer Getting the #SARSCoV2 virus u hv 9...</td>\n",
       "      <td>{'id': 700603156930158593, 'id_str': '70060315...</td>\n",
       "    </tr>\n",
       "    <tr>\n",
       "      <th>2</th>\n",
       "      <td>Thu Apr 15 03:11:58 +0000 2021</td>\n",
       "      <td>1382532122527768576</td>\n",
       "      <td>@ANI @HemantSorenJMM AGAR JHARKHAND BOARD CANC...</td>\n",
       "      <td>{'id': 1062589313404338176, 'id_str': '1062589...</td>\n",
       "    </tr>\n",
       "    <tr>\n",
       "      <th>3</th>\n",
       "      <td>Thu Apr 22 03:34:19 +0000 2021</td>\n",
       "      <td>1385074461674819585</td>\n",
       "      <td>COVID-19 and APA \n",
       "\n",
       "*LA positivity in COVID-19 ...</td>\n",
       "      <td>{'id': 1623493783, 'id_str': '1623493783', 'na...</td>\n",
       "    </tr>\n",
       "    <tr>\n",
       "      <th>4</th>\n",
       "      <td>Fri Apr 16 04:01:18 +0000 2021</td>\n",
       "      <td>1382906924124012544</td>\n",
       "      <td>@gathertonourish @Jo_Brant In Quebec and USA I...</td>\n",
       "      <td>{'id': 899809505101459456, 'id_str': '89980950...</td>\n",
       "    </tr>\n",
       "    <tr>\n",
       "      <th>...</th>\n",
       "      <td>...</td>\n",
       "      <td>...</td>\n",
       "      <td>...</td>\n",
       "      <td>...</td>\n",
       "    </tr>\n",
       "    <tr>\n",
       "      <th>19814</th>\n",
       "      <td>Tue Sep 08 10:34:52 +0000 2020</td>\n",
       "      <td>1303280635822379009</td>\n",
       "      <td>@danwellsracing Link between vit D deficiency ...</td>\n",
       "      <td>{'id': 515933811, 'id_str': '515933811', 'name...</td>\n",
       "    </tr>\n",
       "    <tr>\n",
       "      <th>19815</th>\n",
       "      <td>Sun Sep 13 00:55:08 +0000 2020</td>\n",
       "      <td>1304946684477104129</td>\n",
       "      <td>@lifebiomedguru From the Drs homepage ....\"we ...</td>\n",
       "      <td>{'id': 1290261687367426049, 'id_str': '1290261...</td>\n",
       "    </tr>\n",
       "    <tr>\n",
       "      <th>19816</th>\n",
       "      <td>Wed Sep 09 13:20:11 +0000 2020</td>\n",
       "      <td>1303684628876853248</td>\n",
       "      <td>@CBSNews Flu season approaching. And fall alle...</td>\n",
       "      <td>{'id': 1576242038, 'id_str': '1576242038', 'na...</td>\n",
       "    </tr>\n",
       "    <tr>\n",
       "      <th>19817</th>\n",
       "      <td>Tue Sep 08 00:04:28 +0000 2020</td>\n",
       "      <td>1303121994553188353</td>\n",
       "      <td>@SisyphusInvest1 Also @BuckQuivas - listened t...</td>\n",
       "      <td>{'id': 1193383563967782912, 'id_str': '1193383...</td>\n",
       "    </tr>\n",
       "    <tr>\n",
       "      <th>19818</th>\n",
       "      <td>Sat Sep 12 19:41:50 +0000 2020</td>\n",
       "      <td>1304867836385525760</td>\n",
       "      <td>@NHLonNBCSports @ProHockeyTalk @artemiypanarin...</td>\n",
       "      <td>{'id': 1048595647438438401, 'id_str': '1048595...</td>\n",
       "    </tr>\n",
       "  </tbody>\n",
       "</table>\n",
       "<p>2591799 rows x 4 columns</p>\n",
       "</div>"
      ],
      "text/plain": [
       "                           created_at               id_str  \\\n",
       "0      Tue Apr 06 00:15:28 +0000 2021  1379226213210787841   \n",
       "1      Mon Apr 12 14:22:38 +0000 2021  1381613736012701696   \n",
       "2      Thu Apr 15 03:11:58 +0000 2021  1382532122527768576   \n",
       "3      Thu Apr 22 03:34:19 +0000 2021  1385074461674819585   \n",
       "4      Fri Apr 16 04:01:18 +0000 2021  1382906924124012544   \n",
       "...                               ...                  ...   \n",
       "19814  Tue Sep 08 10:34:52 +0000 2020  1303280635822379009   \n",
       "19815  Sun Sep 13 00:55:08 +0000 2020  1304946684477104129   \n",
       "19816  Wed Sep 09 13:20:11 +0000 2020  1303684628876853248   \n",
       "19817  Tue Sep 08 00:04:28 +0000 2020  1303121994553188353   \n",
       "19818  Sat Sep 12 19:41:50 +0000 2020  1304867836385525760   \n",
       "\n",
       "                                               full_text  \\\n",
       "0      I have consumed an unhealthy amount of caffein...   \n",
       "1      @AhhDamnHer Getting the #SARSCoV2 virus u hv 9...   \n",
       "2      @ANI @HemantSorenJMM AGAR JHARKHAND BOARD CANC...   \n",
       "3      COVID-19 and APA \n",
       "\n",
       "*LA positivity in COVID-19 ...   \n",
       "4      @gathertonourish @Jo_Brant In Quebec and USA I...   \n",
       "...                                                  ...   \n",
       "19814  @danwellsracing Link between vit D deficiency ...   \n",
       "19815  @lifebiomedguru From the Drs homepage ....\"we ...   \n",
       "19816  @CBSNews Flu season approaching. And fall alle...   \n",
       "19817  @SisyphusInvest1 Also @BuckQuivas - listened t...   \n",
       "19818  @NHLonNBCSports @ProHockeyTalk @artemiypanarin...   \n",
       "\n",
       "                                                    user  \n",
       "0      {'id': 372976945, 'id_str': '372976945', 'name...  \n",
       "1      {'id': 700603156930158593, 'id_str': '70060315...  \n",
       "2      {'id': 1062589313404338176, 'id_str': '1062589...  \n",
       "3      {'id': 1623493783, 'id_str': '1623493783', 'na...  \n",
       "4      {'id': 899809505101459456, 'id_str': '89980950...  \n",
       "...                                                  ...  \n",
       "19814  {'id': 515933811, 'id_str': '515933811', 'name...  \n",
       "19815  {'id': 1290261687367426049, 'id_str': '1290261...  \n",
       "19816  {'id': 1576242038, 'id_str': '1576242038', 'na...  \n",
       "19817  {'id': 1193383563967782912, 'id_str': '1193383...  \n",
       "19818  {'id': 1048595647438438401, 'id_str': '1048595...  \n",
       "\n",
       "[2591799 rows x 4 columns]"
      ]
     },
     "execution_count": 7,
     "metadata": {},
     "output_type": "execute_result"
    }
   ],
   "source": [
    "data"
   ]
  },
  {
   "cell_type": "code",
   "execution_count": 8,
   "metadata": {},
   "outputs": [
    {
     "name": "stderr",
     "output_type": "stream",
     "text": [
      "UserWarning: `Series.tolist` defaulting to pandas implementation.\n"
     ]
    }
   ],
   "source": [
    "data['pre-processed'] = data['full_text'].apply(process_text)\n",
    "data_words = data['pre-processed'].to_list()"
   ]
  },
  {
   "cell_type": "code",
   "execution_count": 9,
   "metadata": {},
   "outputs": [
    {
     "name": "stdout",
     "output_type": "stream",
     "text": [
      "[['consumed', 'unhealthy', 'amount', 'caffeine', 'trying', 'stay', 'awake', 'work', 'post', 'vaccine', 'xx'], ['ahhdamnher', 'getting', 'sarscov2', 'virus', 'hv', 'recovery', '998older', 'plus', 'obesity', 'hi', 'blood', 'cancer', 'shd', 'protected', 'take', 'ivermectin']]\n"
     ]
    }
   ],
   "source": [
    "print(data_words[:2])"
   ]
  },
  {
   "cell_type": "code",
   "execution_count": 10,
   "metadata": {},
   "outputs": [
    {
     "name": "stdout",
     "output_type": "stream",
     "text": [
      "['consumed', 'unhealthy', 'amount', 'caffeine', 'trying', 'stay', 'awake', 'work', 'post', 'vaccine', 'xx']\n"
     ]
    }
   ],
   "source": [
    "# Build the bigram and trigram models\n",
    "bigram = gensim.models.Phrases(data_words, min_count=50, threshold=150) # higher threshold fewer phrases.\n",
    "\n",
    "# Faster way to get a sentence clubbed as a trigram/bigram\n",
    "bigram_mod = gensim.models.phrases.Phraser(bigram)\n",
    "\n",
    "# See bigram example\n",
    "print(bigram_mod[bigram_mod[data_words[0]]])"
   ]
  },
  {
   "cell_type": "code",
   "execution_count": 11,
   "metadata": {},
   "outputs": [],
   "source": [
    "# %pip uninstall spacy\n",
    "# %pip install -i https://pypi.douban.com/simple spacy==2.2.2"
   ]
  },
  {
   "cell_type": "code",
   "execution_count": 12,
   "metadata": {},
   "outputs": [],
   "source": [
    "nlp = spacy.load('en_core_web_sm', disable=['parser', 'ner'])\n",
    "\n",
    "def make_bigrams(texts):\n",
    "    return [bigram_mod[doc] for doc in texts]\n",
    "\n",
    "def lemmatization(texts, allowed_postags=['NOUN', 'ADJ', 'VERB', 'ADV']):\n",
    "    \"\"\"https://spacy.io/api/annotation\"\"\"\n",
    "    texts_out = []\n",
    "    for sent in texts:\n",
    "        doc = nlp(\" \".join(sent)) \n",
    "        texts_out.append([token.lemma_ for token in doc if token.pos_ in allowed_postags])\n",
    "    return texts_out\n",
    "    \n",
    "# Form Bigrams\n",
    "data_words_bigrams = make_bigrams(data_words)\n",
    "\n",
    "# Initialize spacy 'en' model, keeping only tagger component (for efficiency)\n",
    "# python3 -m spacy download en\n",
    "#nlp = spacy.load('en', disable=['parser', 'ner'])\n",
    "\n",
    "# Do lemmatization keeping only noun, adj, vb, adv\n",
    "data_lemmatized = lemmatization(data_words_bigrams, allowed_postags=['NOUN', 'ADJ', 'VERB', 'ADV'])"
   ]
  },
  {
   "cell_type": "code",
   "execution_count": null,
   "metadata": {},
   "outputs": [],
   "source": [
    "import numpy \n",
    "numpy.random.seed(1)\n",
    "def remove_stopwords(data_lemmatized):\n",
    "    return [[word for word in doc if word not in stop_words and len(word) > 2] for doc in data_lemmatized]\n",
    "b=remove_stopwords(data_lemmatized[:])\n",
    "data_lemmatized=remove_stopwords(data_lemmatized)\n",
    "data_lemmatized"
   ]
  },
  {
   "cell_type": "code",
   "execution_count": 20,
   "metadata": {},
   "outputs": [],
   "source": [
    "import numpy as np\n",
    "data_lemmatized=np.array(data_lemmatized)\n",
    "np.save('data_lemmatized.npy',data_lemmatized) # 保存为.npy格式\n",
    "a=np.load('data_lemmatized.npy',allow_pickle=True)\n",
    "a=a.tolist()\n",
    "data_lemmatized=a"
   ]
  },
  {
   "cell_type": "code",
   "execution_count": 13,
   "metadata": {},
   "outputs": [
    {
     "name": "stderr",
     "output_type": "stream",
     "text": [
      "UserWarning: Distributing <class 'dict'> object. This may take some time.\n"
     ]
    }
   ],
   "source": [
    "# preserve tokens\n",
    "tokens = pd.DataFrame({'token':data_lemmatized})\n",
    "tokens.to_csv('total_tokens.csv')\n",
    "\n",
    "# Create Dictionary\n",
    "id2word = corpora.Dictionary(data_lemmatized)\n",
    "\n",
    "# Create Corpus\n",
    "texts = data_lemmatized\n",
    "\n",
    "# Term Document Frequency\n",
    "corpus = [id2word.doc2bow(text) for text in texts]\n",
    "#Gensim 为文档中的每个单词创建一个唯一的 id。上面显示的生成语料库是 (word_id, word_frequency) 的映射。这被用作 LDA 模型的输入"
   ]
  },
  {
   "cell_type": "code",
   "execution_count": 14,
   "metadata": {},
   "outputs": [],
   "source": [
    "#corpora.MmCorpus.serialize('total_corpuse.mm', corpus)  # 将生成的语料保存成MM文件\n",
    "corpus = corpora.MmCorpus('total_corpuse.mm')  # 加载"
   ]
  },
  {
   "cell_type": "code",
   "execution_count": 15,
   "metadata": {},
   "outputs": [],
   "source": [
    "#id2word.save_as_text(\"totalid2word.txt\")#保存生成的dictionary\n",
    "id2word = Dictionary.load_from_text(\"totalid2word.txt\")#加载生成的dictionary"
   ]
  },
  {
   "cell_type": "code",
   "execution_count": 23,
   "metadata": {},
   "outputs": [
    {
     "name": "stderr",
     "output_type": "stream",
     "text": [
      "UserWarning: `Series.tolist` defaulting to pandas implementation.\n"
     ]
    }
   ],
   "source": [
    "data_lemmatized=pd.read_csv('total_tokens.csv').token.tolist()#加载词形还原后的分词"
   ]
  },
  {
   "attachments": {},
   "cell_type": "markdown",
   "metadata": {},
   "source": [
    "#### 将主题打印 计算coherence score"
   ]
  },
  {
   "cell_type": "code",
   "execution_count": 11,
   "metadata": {},
   "outputs": [],
   "source": [
    "# import numpy as np\n",
    "# a=np.load('data_lemmatizediver.npy',allow_pickle=True)\n",
    "# a=a.tolist()\n",
    "# data_lemmatized=a\n",
    "# corpus = corpora.MmCorpus('total_corpuseiver.mm')  # 加载\n",
    "# id2word = Dictionary.load_from_text(\"totalid2wordiver.txt\")#加载生成的dictionary"
   ]
  },
  {
   "cell_type": "code",
   "execution_count": 5,
   "metadata": {},
   "outputs": [
    {
     "name": "stdout",
     "output_type": "stream",
     "text": [
      "\n",
      "Coherence Score:  0.3668129664017141\n"
     ]
    }
   ],
   "source": [
    "# #model=gensim.models.ldamodel.LdaModel.load(\"ldarem_8_184428.model\")\n",
    "# model=gensim.models.ldamodel.LdaModel.load(\"rem7da.model\")\n",
    "# # Compute Coherence Score\n",
    "# coherence_model_lda = CoherenceModel(model=model, texts=data_lemmatized, dictionary=id2word, coherence='c_v')\n",
    "# coherence_lda = coherence_model_lda.get_coherence()\n",
    "# print('\\nCoherence Score: ', coherence_lda)"
   ]
  },
  {
   "cell_type": "code",
   "execution_count": 10,
   "metadata": {},
   "outputs": [
    {
     "name": "stdout",
     "output_type": "stream",
     "text": [
      "[(0,\n",
      "  '0.101*\"covid19\" + 0.090*\"treatment\" + 0.044*\"study\" + 0.039*\"trial\" + '\n",
      "  '0.029*\"evidence\" + 0.023*\"effective\" + 0.020*\"treat\" + 0.019*\"clinical\" + '\n",
      "  '0.017*\"patient\" + 0.014*\"datum\"'),\n",
      " (1,\n",
      "  '0.053*\"vaccine\" + 0.040*\"people\" + 0.028*\"cure\" + 0.028*\"treatment\" + '\n",
      "  '0.027*\"effective\" + 0.023*\"safe\" + 0.023*\"covid\" + 0.015*\"save\" + '\n",
      "  '0.015*\"horse\" + 0.014*\"prove\"'),\n",
      " (2,\n",
      "  '0.024*\"zinc\" + 0.022*\"vitamin\" + 0.019*\"virus\" + 0.017*\"watch\" + '\n",
      "  '0.015*\"hydroxychloroquinezinc\" + 0.013*\"vitro_outpatient\" + 0.012*\"flu\" + '\n",
      "  '0.012*\"protect\" + 0.012*\"health\" + 0.012*\"parasitic\"'),\n",
      " (3,\n",
      "  '0.067*\"doctor\" + 0.048*\"patient\" + 0.032*\"day\" + 0.031*\"treat\" + '\n",
      "  '0.025*\"treatment\" + 0.022*\"covid\" + 0.019*\"hospital\" + 0.017*\"start\" + '\n",
      "  '0.017*\"symptom\" + 0.016*\"die\"'),\n",
      " (4,\n",
      "  '0.042*\"virus\" + 0.026*\"kill\" + 0.020*\"study\" + 0.016*\"death\" + 0.015*\"hour\" '\n",
      "  '+ 0.014*\"country\" + 0.014*\"reduce\" + 0.012*\"rate\" + 0.011*\"risk\" + '\n",
      "  '0.011*\"low\"'),\n",
      " (5,\n",
      "  '0.112*\"drug\" + 0.042*\"treat\" + 0.039*\"approve\" + 0.036*\"human\" + '\n",
      "  '0.022*\"virus\" + 0.017*\"parasite\" + 0.017*\"call\" + 0.017*\"covid\" + '\n",
      "  '0.015*\"cure\" + 0.013*\"animal\"')]\n"
     ]
    }
   ],
   "source": [
    "# #model=gensim.models.ldamodel.LdaModel.load(\"ldazinc_4_125362.model\")\n",
    "# # Print the Keyword in the 10 topics\n",
    "# from pprint import pprint\n",
    "# pprint(model.print_topics())\n",
    "# doc_lda = model[corpus]"
   ]
  },
  {
   "cell_type": "code",
   "execution_count": 10,
   "metadata": {},
   "outputs": [
    {
     "name": "stderr",
     "output_type": "stream",
     "text": [
      "/home/lwx/.conda/envs/lwx/lib/python3.8/site-packages/pyLDAvis/_prepare.py:246: FutureWarning: In a future version of pandas all arguments of DataFrame.drop except for the argument 'labels' will be keyword-only.\n",
      "  default_term_info = default_term_info.sort_values(\n",
      "/home/lwx/.conda/envs/lwx/lib/python3.8/site-packages/past/builtins/misc.py:45: DeprecationWarning: the imp module is deprecated in favour of importlib; see the module's documentation for alternative uses\n",
      "  from imp import reload\n",
      "/home/lwx/.conda/envs/lwx/lib/python3.8/site-packages/scipy/fft/__init__.py:97: DeprecationWarning: The module numpy.dual is deprecated.  Instead of using dual, use the functions directly from numpy or scipy.\n",
      "  from numpy.dual import register_func\n",
      "/home/lwx/.conda/envs/lwx/lib/python3.8/site-packages/scipy/sparse/sputils.py:17: DeprecationWarning: `np.typeDict` is a deprecated alias for `np.sctypeDict`.\n",
      "  supported_dtypes = [np.typeDict[x] for x in supported_dtypes]\n",
      "/home/lwx/.conda/envs/lwx/lib/python3.8/site-packages/scipy/sparse/sputils.py:17: DeprecationWarning: `np.typeDict` is a deprecated alias for `np.sctypeDict`.\n",
      "  supported_dtypes = [np.typeDict[x] for x in supported_dtypes]\n",
      "/home/lwx/.conda/envs/lwx/lib/python3.8/site-packages/scipy/sparse/sputils.py:17: DeprecationWarning: `np.typeDict` is a deprecated alias for `np.sctypeDict`.\n",
      "  supported_dtypes = [np.typeDict[x] for x in supported_dtypes]\n",
      "/home/lwx/.conda/envs/lwx/lib/python3.8/site-packages/scipy/sparse/sputils.py:17: DeprecationWarning: `np.typeDict` is a deprecated alias for `np.sctypeDict`.\n",
      "  supported_dtypes = [np.typeDict[x] for x in supported_dtypes]\n",
      "/home/lwx/.conda/envs/lwx/lib/python3.8/site-packages/scipy/sparse/sputils.py:17: DeprecationWarning: `np.typeDict` is a deprecated alias for `np.sctypeDict`.\n",
      "  supported_dtypes = [np.typeDict[x] for x in supported_dtypes]\n",
      "/home/lwx/.conda/envs/lwx/lib/python3.8/site-packages/scipy/sparse/sputils.py:17: DeprecationWarning: `np.typeDict` is a deprecated alias for `np.sctypeDict`.\n",
      "  supported_dtypes = [np.typeDict[x] for x in supported_dtypes]\n",
      "/home/lwx/.conda/envs/lwx/lib/python3.8/site-packages/scipy/sparse/sputils.py:17: DeprecationWarning: `np.typeDict` is a deprecated alias for `np.sctypeDict`.\n",
      "  supported_dtypes = [np.typeDict[x] for x in supported_dtypes]\n",
      "/home/lwx/.conda/envs/lwx/lib/python3.8/site-packages/scipy/sparse/sputils.py:17: DeprecationWarning: `np.typeDict` is a deprecated alias for `np.sctypeDict`.\n",
      "  supported_dtypes = [np.typeDict[x] for x in supported_dtypes]\n",
      "/home/lwx/.conda/envs/lwx/lib/python3.8/site-packages/scipy/sparse/sputils.py:17: DeprecationWarning: `np.typeDict` is a deprecated alias for `np.sctypeDict`.\n",
      "  supported_dtypes = [np.typeDict[x] for x in supported_dtypes]\n",
      "/home/lwx/.conda/envs/lwx/lib/python3.8/site-packages/scipy/sparse/sputils.py:17: DeprecationWarning: `np.typeDict` is a deprecated alias for `np.sctypeDict`.\n",
      "  supported_dtypes = [np.typeDict[x] for x in supported_dtypes]\n",
      "/home/lwx/.conda/envs/lwx/lib/python3.8/site-packages/scipy/sparse/sputils.py:17: DeprecationWarning: `np.typeDict` is a deprecated alias for `np.sctypeDict`.\n",
      "  supported_dtypes = [np.typeDict[x] for x in supported_dtypes]\n",
      "/home/lwx/.conda/envs/lwx/lib/python3.8/site-packages/scipy/sparse/sputils.py:17: DeprecationWarning: `np.typeDict` is a deprecated alias for `np.sctypeDict`.\n",
      "  supported_dtypes = [np.typeDict[x] for x in supported_dtypes]\n",
      "/home/lwx/.conda/envs/lwx/lib/python3.8/site-packages/scipy/sparse/sputils.py:17: DeprecationWarning: `np.typeDict` is a deprecated alias for `np.sctypeDict`.\n",
      "  supported_dtypes = [np.typeDict[x] for x in supported_dtypes]\n",
      "/home/lwx/.conda/envs/lwx/lib/python3.8/site-packages/scipy/sparse/sputils.py:17: DeprecationWarning: `np.typeDict` is a deprecated alias for `np.sctypeDict`.\n",
      "  supported_dtypes = [np.typeDict[x] for x in supported_dtypes]\n",
      "/home/lwx/.conda/envs/lwx/lib/python3.8/site-packages/scipy/sparse/sputils.py:17: DeprecationWarning: `np.typeDict` is a deprecated alias for `np.sctypeDict`.\n",
      "  supported_dtypes = [np.typeDict[x] for x in supported_dtypes]\n",
      "/home/lwx/.conda/envs/lwx/lib/python3.8/site-packages/scipy/special/orthogonal.py:81: DeprecationWarning: `np.int` is a deprecated alias for the builtin `int`. To silence this warning, use `int` by itself. Doing this will not modify any behavior and is safe. When replacing `np.int`, you may wish to use e.g. `np.int64` or `np.int32` to specify the precision. If you wish to review your current use, check the release note link for additional information.\n",
      "Deprecated in NumPy 1.20; for more details and guidance: https://numpy.org/devdocs/release/1.20.0-notes.html#deprecations\n",
      "  from numpy import (exp, inf, pi, sqrt, floor, sin, cos, around, int,\n",
      "/home/lwx/.conda/envs/lwx/lib/python3.8/site-packages/scipy/special/orthogonal.py:81: DeprecationWarning: `np.int` is a deprecated alias for the builtin `int`. To silence this warning, use `int` by itself. Doing this will not modify any behavior and is safe. When replacing `np.int`, you may wish to use e.g. `np.int64` or `np.int32` to specify the precision. If you wish to review your current use, check the release note link for additional information.\n",
      "Deprecated in NumPy 1.20; for more details and guidance: https://numpy.org/devdocs/release/1.20.0-notes.html#deprecations\n",
      "  from numpy import (exp, inf, pi, sqrt, floor, sin, cos, around, int,\n",
      "/home/lwx/.conda/envs/lwx/lib/python3.8/site-packages/past/builtins/misc.py:45: DeprecationWarning: the imp module is deprecated in favour of importlib; see the module's documentation for alternative uses\n",
      "  from imp import reload\n",
      "/home/lwx/.conda/envs/lwx/lib/python3.8/site-packages/past/builtins/misc.py:45: DeprecationWarning: the imp module is deprecated in favour of importlib; see the module's documentation for alternative uses\n",
      "  from imp import reload\n",
      "/home/lwx/.conda/envs/lwx/lib/python3.8/site-packages/scipy/fft/__init__.py:97: DeprecationWarning: The module numpy.dual is deprecated.  Instead of using dual, use the functions directly from numpy or scipy.\n",
      "  from numpy.dual import register_func\n",
      "/home/lwx/.conda/envs/lwx/lib/python3.8/site-packages/scipy/fft/__init__.py:97: DeprecationWarning: The module numpy.dual is deprecated.  Instead of using dual, use the functions directly from numpy or scipy.\n",
      "  from numpy.dual import register_func\n",
      "/home/lwx/.conda/envs/lwx/lib/python3.8/site-packages/scipy/sparse/sputils.py:17: DeprecationWarning: `np.typeDict` is a deprecated alias for `np.sctypeDict`.\n",
      "  supported_dtypes = [np.typeDict[x] for x in supported_dtypes]\n",
      "/home/lwx/.conda/envs/lwx/lib/python3.8/site-packages/scipy/sparse/sputils.py:17: DeprecationWarning: `np.typeDict` is a deprecated alias for `np.sctypeDict`.\n",
      "  supported_dtypes = [np.typeDict[x] for x in supported_dtypes]\n",
      "/home/lwx/.conda/envs/lwx/lib/python3.8/site-packages/scipy/sparse/sputils.py:17: DeprecationWarning: `np.typeDict` is a deprecated alias for `np.sctypeDict`.\n",
      "  supported_dtypes = [np.typeDict[x] for x in supported_dtypes]\n",
      "/home/lwx/.conda/envs/lwx/lib/python3.8/site-packages/scipy/sparse/sputils.py:17: DeprecationWarning: `np.typeDict` is a deprecated alias for `np.sctypeDict`.\n",
      "  supported_dtypes = [np.typeDict[x] for x in supported_dtypes]\n",
      "/home/lwx/.conda/envs/lwx/lib/python3.8/site-packages/scipy/sparse/sputils.py:17: DeprecationWarning: `np.typeDict` is a deprecated alias for `np.sctypeDict`.\n",
      "  supported_dtypes = [np.typeDict[x] for x in supported_dtypes]\n",
      "/home/lwx/.conda/envs/lwx/lib/python3.8/site-packages/scipy/sparse/sputils.py:17: DeprecationWarning: `np.typeDict` is a deprecated alias for `np.sctypeDict`.\n",
      "  supported_dtypes = [np.typeDict[x] for x in supported_dtypes]\n",
      "/home/lwx/.conda/envs/lwx/lib/python3.8/site-packages/scipy/sparse/sputils.py:17: DeprecationWarning: `np.typeDict` is a deprecated alias for `np.sctypeDict`.\n",
      "  supported_dtypes = [np.typeDict[x] for x in supported_dtypes]\n",
      "/home/lwx/.conda/envs/lwx/lib/python3.8/site-packages/scipy/sparse/sputils.py:17: DeprecationWarning: `np.typeDict` is a deprecated alias for `np.sctypeDict`.\n",
      "  supported_dtypes = [np.typeDict[x] for x in supported_dtypes]\n",
      "/home/lwx/.conda/envs/lwx/lib/python3.8/site-packages/scipy/sparse/sputils.py:17: DeprecationWarning: `np.typeDict` is a deprecated alias for `np.sctypeDict`.\n",
      "  supported_dtypes = [np.typeDict[x] for x in supported_dtypes]\n",
      "/home/lwx/.conda/envs/lwx/lib/python3.8/site-packages/scipy/sparse/sputils.py:17: DeprecationWarning: `np.typeDict` is a deprecated alias for `np.sctypeDict`.\n",
      "  supported_dtypes = [np.typeDict[x] for x in supported_dtypes]\n",
      "/home/lwx/.conda/envs/lwx/lib/python3.8/site-packages/scipy/sparse/sputils.py:17: DeprecationWarning: `np.typeDict` is a deprecated alias for `np.sctypeDict`.\n",
      "  supported_dtypes = [np.typeDict[x] for x in supported_dtypes]\n",
      "/home/lwx/.conda/envs/lwx/lib/python3.8/site-packages/scipy/sparse/sputils.py:17: DeprecationWarning: `np.typeDict` is a deprecated alias for `np.sctypeDict`.\n",
      "  supported_dtypes = [np.typeDict[x] for x in supported_dtypes]\n",
      "/home/lwx/.conda/envs/lwx/lib/python3.8/site-packages/scipy/sparse/sputils.py:17: DeprecationWarning: `np.typeDict` is a deprecated alias for `np.sctypeDict`.\n",
      "  supported_dtypes = [np.typeDict[x] for x in supported_dtypes]\n",
      "/home/lwx/.conda/envs/lwx/lib/python3.8/site-packages/scipy/sparse/sputils.py:17: DeprecationWarning: `np.typeDict` is a deprecated alias for `np.sctypeDict`.\n",
      "  supported_dtypes = [np.typeDict[x] for x in supported_dtypes]\n",
      "/home/lwx/.conda/envs/lwx/lib/python3.8/site-packages/scipy/sparse/sputils.py:17: DeprecationWarning: `np.typeDict` is a deprecated alias for `np.sctypeDict`.\n",
      "  supported_dtypes = [np.typeDict[x] for x in supported_dtypes]\n",
      "/home/lwx/.conda/envs/lwx/lib/python3.8/site-packages/scipy/special/orthogonal.py:81: DeprecationWarning: `np.int` is a deprecated alias for the builtin `int`. To silence this warning, use `int` by itself. Doing this will not modify any behavior and is safe. When replacing `np.int`, you may wish to use e.g. `np.int64` or `np.int32` to specify the precision. If you wish to review your current use, check the release note link for additional information.\n",
      "Deprecated in NumPy 1.20; for more details and guidance: https://numpy.org/devdocs/release/1.20.0-notes.html#deprecations\n",
      "  from numpy import (exp, inf, pi, sqrt, floor, sin, cos, around, int,\n",
      "/home/lwx/.conda/envs/lwx/lib/python3.8/site-packages/scipy/special/orthogonal.py:81: DeprecationWarning: `np.int` is a deprecated alias for the builtin `int`. To silence this warning, use `int` by itself. Doing this will not modify any behavior and is safe. When replacing `np.int`, you may wish to use e.g. `np.int64` or `np.int32` to specify the precision. If you wish to review your current use, check the release note link for additional information.\n",
      "Deprecated in NumPy 1.20; for more details and guidance: https://numpy.org/devdocs/release/1.20.0-notes.html#deprecations\n",
      "  from numpy import (exp, inf, pi, sqrt, floor, sin, cos, around, int,\n",
      "/home/lwx/.conda/envs/lwx/lib/python3.8/site-packages/scipy/sparse/sputils.py:17: DeprecationWarning: `np.typeDict` is a deprecated alias for `np.sctypeDict`.\n",
      "  supported_dtypes = [np.typeDict[x] for x in supported_dtypes]\n",
      "/home/lwx/.conda/envs/lwx/lib/python3.8/site-packages/scipy/sparse/sputils.py:17: DeprecationWarning: `np.typeDict` is a deprecated alias for `np.sctypeDict`.\n",
      "  supported_dtypes = [np.typeDict[x] for x in supported_dtypes]\n",
      "/home/lwx/.conda/envs/lwx/lib/python3.8/site-packages/scipy/sparse/sputils.py:17: DeprecationWarning: `np.typeDict` is a deprecated alias for `np.sctypeDict`.\n",
      "  supported_dtypes = [np.typeDict[x] for x in supported_dtypes]\n",
      "/home/lwx/.conda/envs/lwx/lib/python3.8/site-packages/scipy/sparse/sputils.py:17: DeprecationWarning: `np.typeDict` is a deprecated alias for `np.sctypeDict`.\n",
      "  supported_dtypes = [np.typeDict[x] for x in supported_dtypes]\n",
      "/home/lwx/.conda/envs/lwx/lib/python3.8/site-packages/scipy/sparse/sputils.py:17: DeprecationWarning: `np.typeDict` is a deprecated alias for `np.sctypeDict`.\n",
      "  supported_dtypes = [np.typeDict[x] for x in supported_dtypes]\n",
      "/home/lwx/.conda/envs/lwx/lib/python3.8/site-packages/scipy/sparse/sputils.py:17: DeprecationWarning: `np.typeDict` is a deprecated alias for `np.sctypeDict`.\n",
      "  supported_dtypes = [np.typeDict[x] for x in supported_dtypes]\n",
      "/home/lwx/.conda/envs/lwx/lib/python3.8/site-packages/scipy/sparse/sputils.py:17: DeprecationWarning: `np.typeDict` is a deprecated alias for `np.sctypeDict`.\n",
      "  supported_dtypes = [np.typeDict[x] for x in supported_dtypes]\n",
      "/home/lwx/.conda/envs/lwx/lib/python3.8/site-packages/scipy/sparse/sputils.py:17: DeprecationWarning: `np.typeDict` is a deprecated alias for `np.sctypeDict`.\n",
      "  supported_dtypes = [np.typeDict[x] for x in supported_dtypes]\n",
      "/home/lwx/.conda/envs/lwx/lib/python3.8/site-packages/scipy/sparse/sputils.py:17: DeprecationWarning: `np.typeDict` is a deprecated alias for `np.sctypeDict`.\n",
      "  supported_dtypes = [np.typeDict[x] for x in supported_dtypes]\n",
      "/home/lwx/.conda/envs/lwx/lib/python3.8/site-packages/scipy/sparse/sputils.py:17: DeprecationWarning: `np.typeDict` is a deprecated alias for `np.sctypeDict`.\n",
      "  supported_dtypes = [np.typeDict[x] for x in supported_dtypes]\n",
      "/home/lwx/.conda/envs/lwx/lib/python3.8/site-packages/scipy/sparse/sputils.py:17: DeprecationWarning: `np.typeDict` is a deprecated alias for `np.sctypeDict`.\n",
      "  supported_dtypes = [np.typeDict[x] for x in supported_dtypes]\n",
      "/home/lwx/.conda/envs/lwx/lib/python3.8/site-packages/scipy/sparse/sputils.py:17: DeprecationWarning: `np.typeDict` is a deprecated alias for `np.sctypeDict`.\n",
      "  supported_dtypes = [np.typeDict[x] for x in supported_dtypes]\n",
      "/home/lwx/.conda/envs/lwx/lib/python3.8/site-packages/scipy/sparse/sputils.py:17: DeprecationWarning: `np.typeDict` is a deprecated alias for `np.sctypeDict`.\n",
      "  supported_dtypes = [np.typeDict[x] for x in supported_dtypes]\n",
      "/home/lwx/.conda/envs/lwx/lib/python3.8/site-packages/scipy/sparse/sputils.py:17: DeprecationWarning: `np.typeDict` is a deprecated alias for `np.sctypeDict`.\n",
      "  supported_dtypes = [np.typeDict[x] for x in supported_dtypes]\n",
      "/home/lwx/.conda/envs/lwx/lib/python3.8/site-packages/scipy/sparse/sputils.py:17: DeprecationWarning: `np.typeDict` is a deprecated alias for `np.sctypeDict`.\n",
      "  supported_dtypes = [np.typeDict[x] for x in supported_dtypes]\n",
      "/home/lwx/.conda/envs/lwx/lib/python3.8/site-packages/scipy/special/orthogonal.py:81: DeprecationWarning: `np.int` is a deprecated alias for the builtin `int`. To silence this warning, use `int` by itself. Doing this will not modify any behavior and is safe. When replacing `np.int`, you may wish to use e.g. `np.int64` or `np.int32` to specify the precision. If you wish to review your current use, check the release note link for additional information.\n",
      "Deprecated in NumPy 1.20; for more details and guidance: https://numpy.org/devdocs/release/1.20.0-notes.html#deprecations\n",
      "  from numpy import (exp, inf, pi, sqrt, floor, sin, cos, around, int,\n",
      "/home/lwx/.conda/envs/lwx/lib/python3.8/site-packages/scipy/special/orthogonal.py:81: DeprecationWarning: `np.int` is a deprecated alias for the builtin `int`. To silence this warning, use `int` by itself. Doing this will not modify any behavior and is safe. When replacing `np.int`, you may wish to use e.g. `np.int64` or `np.int32` to specify the precision. If you wish to review your current use, check the release note link for additional information.\n",
      "Deprecated in NumPy 1.20; for more details and guidance: https://numpy.org/devdocs/release/1.20.0-notes.html#deprecations\n",
      "  from numpy import (exp, inf, pi, sqrt, floor, sin, cos, around, int,\n"
     ]
    },
    {
     "data": {
      "text/html": [
       "\n",
       "<link rel=\"stylesheet\" type=\"text/css\" href=\"https://cdn.jsdelivr.net/gh/bmabey/pyLDAvis@3.3.1/pyLDAvis/js/ldavis.v1.0.0.css\">\n",
       "\n",
       "\n",
       "<div id=\"ldavis_el26814001405245966562722864409980\"></div>\n",
       "<script type=\"text/javascript\">\n",
       "\n",
       "var ldavis_el26814001405245966562722864409980_data = {\"mdsDat\": {\"x\": [0.05507001551952695, -0.17057827268459266, -0.20496913660296123, -0.02214144143767644, 0.3426188352057036], \"y\": [0.29768355631957366, -0.18622005295321087, 0.12152930715297594, -0.15511269481637682, -0.07788011570296176], \"topics\": [1, 2, 3, 4, 5], \"cluster\": [1, 1, 1, 1, 1], \"Freq\": [28.748206133983107, 22.72745192818241, 17.823339813183665, 16.98315017177444, 13.717851952876375]}, \"tinfo\": {\"Term\": [\"covid19\", \"patient\", \"treatment\", \"approve\", \"drug\", \"trial\", \"treat\", \"study\", \"hospital\", \"trump\", \"day\", \"virus\", \"antiviral\", \"doctor\", \"supply\", \"company\", \"hospitalize\", \"ampion\", \"country\", \"stay\", \"people\", \"price\", \"oxygen\", \"survival\", \"death\", \"approval\", \"stock\", \"cost\", \"clinical\", \"positive\", \"approve\", \"trial\", \"treat\", \"study\", \"antiviral\", \"hospitalize\", \"approval\", \"clinical\", \"recovery\", \"effective\", \"experimental\", \"mortality\", \"gilead\", \"develop\", \"antibody\", \"benefit\", \"science\", \"prove\", \"evidence\", \"recommend\", \"gileadscience\", \"coronavirus\", \"authorize\", \"efficacy\", \"effectiveness\", \"phase\", \"combination\", \"potential\", \"publish\", \"explain\", \"covid19\", \"emergency\", \"treatment\", \"drug\", \"patient\", \"time\", \"reduce\", \"severe\", \"datum\", \"receive\", \"infection\", \"report\", \"death\", \"huge\", \"die\", \"steroid\", \"cocktail\", \"update\", \"question\", \"live\", \"ineffective\", \"prevent\", \"standard_care\", \"cell\", \"risk\", \"administration\", \"kill\", \"blood_clot\", \"comeonlet_sgofda\", \"overdueapprovehalt_sufferingdeath\", \"remdesivirkidneyliverdamage_afib\", \"researcher\", \"hear\", \"miracle\", \"story\", \"feel\", \"viral\", \"spread\", \"await\", \"beat\", \"reject\", \"testing\", \"plan\", \"virus\", \"people\", \"death\", \"vaccine\", \"bad\", \"therapeutic\", \"sick\", \"plasma\", \"therapy\", \"test\", \"covid\", \"cure\", \"dexamethasone\", \"day\", \"start\", \"rate\", \"reduce\", \"oxygen\", \"survival\", \"positive\", \"improve\", \"push\", \"injection\", \"moderate\", \"save\", \"require\", \"article\", \"advise\", \"president\", \"development\", \"life\", \"admit\", \"critical\", \"realdonaldtrump\", \"lung\", \"friend\", \"team\", \"level\", \"combine\", \"limit_sickest\", \"condition\", \"status\", \"major\", \"debate\", \"person\", \"discharge\", \"taxpayer\", \"doctor\", \"day\", \"hospital\", \"patient\", \"symptom\", \"provide\", \"covid\", \"receive\", \"care\", \"week\", \"plasma\", \"test\", \"recover\", \"trump\", \"stay\", \"cost\", \"ampion\", \"lie\", \"global\", \"ill\", \"access\", \"pay\", \"confirm\", \"deal\", \"adult\", \"sign\", \"patent\", \"expensive\", \"elect\", \"developed_aborte\", \"cheap\", \"millions_tax\", \"payers_dollar\", \"free\", \"monoclonal_antibodie\", \"hospitalized\", \"replication\", \"fund\", \"play\", \"mild\", \"child\", \"station\", \"final\", \"continue\", \"cure\", \"treatment\", \"hospital\", \"money\", \"hydroxychloroquine\", \"drug\", \"covid\", \"dexamethasone\", \"vaccine\", \"people\", \"supply\", \"company\", \"country\", \"price\", \"stock\", \"buy\", \"shortage\", \"vial\", \"sell\", \"market\", \"produce\", \"rise\", \"leron_thepraise\", \"hero_fr24newsfromforbesmag\", \"grant\", \"panel\", \"sale\", \"hold\", \"maker\", \"business\", \"tout\", \"bill_gate\", \"death_remdesivirorgandamage\", \"delayed_approvalsmore\", \"conclude\", \"american\", \"network\", \"afib_trumpbidenfirsttomention\", \"manufacture\", \"demand\", \"ampe\", \"fight\", \"government\", \"drug\", \"month\", \"covid19\", \"pharma\", \"share\"], \"Freq\": [32687.0, 36764.0, 31291.0, 15821.0, 34228.0, 14572.0, 12439.0, 12264.0, 13801.0, 8296.0, 11147.0, 11427.0, 8739.0, 7887.0, 4884.0, 4016.0, 6259.0, 4336.0, 3747.0, 4157.0, 7337.0, 3679.0, 4220.0, 4108.0, 7599.0, 5079.0, 3047.0, 3316.0, 4721.0, 3342.0, 15820.237116810367, 14571.9030761216, 12438.777400538778, 12263.733593792153, 8738.888284730661, 6258.436639034729, 5078.1193679499365, 4720.988947399071, 4541.220483897431, 4147.443494048184, 4096.004118970389, 3124.8453750331105, 2891.050893044672, 2589.4699496334524, 2593.198031210364, 2452.4156914157666, 2029.780144682299, 2002.5731286215816, 1907.400541578582, 1534.4408428165063, 1485.9084878072042, 1340.9415596616705, 1319.8680186167621, 1329.0020924527537, 1249.6992801896272, 1318.113310002055, 1156.2314873860053, 1071.1112959453476, 1026.7238888825598, 954.6658528218193, 30563.140164729102, 2016.42809208992, 22158.77579742846, 22013.812807638442, 20686.047273200922, 4392.264686546765, 3448.2597052543288, 3111.9306511357267, 1794.599019086942, 2784.678650314575, 2175.1772097431917, 2013.0462433326165, 2078.0654106912575, 3299.9178744841483, 3233.7845895634146, 3061.2783149005063, 2704.697192251436, 2318.574228941606, 2057.216497347364, 1941.4923186231897, 1868.365609254743, 1835.670290680094, 1944.6728708269607, 1649.9964351335595, 1503.8932787055055, 1524.088126899196, 1437.1716694656573, 1339.9344927294799, 1294.5650222042857, 1292.7624159840084, 1292.7624159840084, 1304.9837504362938, 1114.243483024327, 1094.4632098944392, 1051.654290334741, 974.7186344943852, 958.7274759190689, 960.4150840930765, 977.8574246060148, 934.1778635694682, 911.8825242810847, 897.6453058899845, 868.0483013635929, 10157.95950159019, 5964.684821047484, 5520.434169591835, 3413.234336609205, 1792.8398470599404, 1961.590105487657, 1660.7703780488064, 2275.1914698078804, 1896.9862472023008, 2263.8750934948675, 2852.983619415494, 1831.7613047070747, 1815.97902427819, 2007.0808688315178, 1517.46859839474, 1424.0229052134982, 1472.8720988456485, 4219.828644890119, 4107.731014001187, 3341.4937262284866, 2499.434480785727, 2365.4897443813247, 2383.889798912853, 2289.1552409105116, 2267.62215993494, 2207.6492055138674, 2138.380997318481, 2073.7509676721684, 2022.1422341603286, 2135.0074098171663, 1895.389700098399, 1699.7152553560084, 1543.8440049317944, 1476.4427458772645, 1375.238517993082, 1345.0498038831183, 1307.8343925887964, 1250.1041976098782, 1252.8983578161406, 1822.9230702200998, 1097.3203243558207, 1055.8076178111455, 1038.834899296836, 1039.3063607510917, 1007.9543332847365, 865.0364889702272, 815.7344238839828, 6964.371275271037, 9133.863420515296, 8475.204273194558, 16077.519692263248, 2329.0227688565374, 1507.7545382859382, 5026.997407173707, 3049.6829722921325, 1847.8683813381367, 1925.1806285589378, 2072.4494325608925, 1956.2310523343358, 1559.8413152403616, 8295.75438474383, 4156.683488582942, 3315.602286650157, 4335.443937460253, 2304.105859889148, 2064.4379605015747, 1715.018903816305, 1648.0843358087373, 1547.0866709334477, 1396.2461747109442, 1383.659147466018, 1366.8740167123867, 1297.392424578998, 1262.9601058176652, 1259.2611093837763, 1194.2101799737266, 1122.1926909496672, 1087.3597917229363, 1101.8711225520194, 1097.5724693002321, 1021.2906191399841, 1018.1208744724996, 930.8608941133231, 911.9448978284788, 888.7277193747677, 866.5285817805928, 843.1647767146106, 763.0524770106797, 892.2571772076448, 750.9888344445333, 2213.112186353752, 3138.232539853222, 9132.269980937912, 5325.269365669977, 1304.3416864001838, 1615.1623874839834, 5115.572775315442, 2562.041240065691, 1754.5114844970972, 1451.3445003761572, 1372.2166069346044, 4883.861834482166, 4015.354845436445, 3746.4201701643065, 3678.3613363159043, 3046.6164924861405, 2587.133979569704, 2176.6989034716826, 2145.5026157942357, 1940.9901326067993, 1923.3836160137002, 1806.143998547244, 1634.0625682554862, 1508.8711673693458, 1442.483744141916, 1310.0977441450746, 1209.619541587482, 1134.7766893074156, 1116.1221910646982, 1055.4839595425628, 998.2070968870776, 985.0430223873635, 947.0907419843044, 891.9680184377028, 892.3569466033182, 887.9998072420556, 849.5540129481734, 821.5127824528853, 813.2570467693167, 810.4396053813435, 812.5463540834925, 1071.5716953074138, 1666.6813852109508, 1661.170861398884, 7098.457375482793, 1318.46108873497, 2123.137938949781, 995.5806878628036, 926.9877314474627], \"Total\": [32687.0, 36764.0, 31291.0, 15821.0, 34228.0, 14572.0, 12439.0, 12264.0, 13801.0, 8296.0, 11147.0, 11427.0, 8739.0, 7887.0, 4884.0, 4016.0, 6259.0, 4336.0, 3747.0, 4157.0, 7337.0, 3679.0, 4220.0, 4108.0, 7599.0, 5079.0, 3047.0, 3316.0, 4721.0, 3342.0, 15821.247689973468, 14572.916371881432, 12439.792970222847, 12264.745941414943, 8739.899579942858, 6259.453029523117, 5079.135707394408, 4721.9985150378025, 4542.235645160212, 4148.471656147422, 4097.051448622732, 3125.857190725714, 2892.0612867002956, 2590.5053984998276, 2594.26653205672, 2453.430964095225, 2030.7980601360732, 2003.594207033618, 1908.4123487881059, 1535.455279177862, 1486.931488383266, 1341.9556517459412, 1320.8735812041925, 1330.02160656626, 1250.7182823750138, 1319.1885467105012, 1157.2484013809692, 1072.1311155298974, 1027.7338351593569, 955.6846256919067, 32687.01375872645, 2124.9554712313648, 31291.841112950126, 34228.35578362711, 36764.2916893195, 6126.938796660579, 4941.29360354221, 4305.10427373641, 2012.9255406984953, 6518.72607209256, 3628.208110879983, 3796.131067596371, 7599.289630388635, 3300.8730300642424, 3234.742481189397, 3062.2433079575835, 2705.6672223214478, 2319.52641963351, 2058.1756611036035, 1942.4517713122953, 1869.3238737378674, 1836.6212138436274, 1945.7161320649227, 1650.945895922885, 1504.8455391880552, 1525.0593207865854, 1438.1235200575147, 1340.876696899633, 1295.5092851664263, 1293.7066083520988, 1293.7066083520988, 1305.9429716598038, 1115.2000466541933, 1095.4254421424866, 1052.6096579841344, 975.6807758335276, 959.6767833378798, 961.3691198771713, 978.835007522212, 935.1385333834104, 912.8470977470437, 898.5967414432096, 869.0035535627921, 11427.511265258563, 7337.637930124694, 7599.289630388635, 4865.311176339513, 2270.642620149982, 2853.406298273765, 2210.076649273121, 4348.317846862953, 3318.4984291248447, 5196.284536055312, 12022.15050846628, 4970.733458248829, 4986.949759190126, 11147.875387059079, 2793.4198709211264, 2409.9150161788643, 4941.29360354221, 4220.708055783654, 4108.612429308012, 3342.375105851673, 2500.3135747309225, 2366.3783407455376, 2384.788518463228, 2290.038105919902, 2268.506998906306, 2208.5303092588492, 2139.2632785002497, 2074.630649211667, 2023.035179647864, 2135.951776282888, 1896.2768040689857, 1700.5949000886271, 1544.7269544620644, 1477.340469922355, 1376.131347695761, 1345.9409277313632, 1308.7231226906395, 1250.9877744769542, 1253.7901250904038, 1824.2822059420023, 1098.202437920951, 1056.692888428071, 1039.7232482227682, 1040.2143189447183, 1008.8372352702014, 865.918093804456, 816.6570081823778, 7887.62259028755, 11147.875387059079, 13801.140018623475, 36764.2916893195, 3147.3925741728954, 1766.743022083328, 12022.15050846628, 6518.72607209256, 2678.939671236684, 3230.7276035011046, 4348.317846862953, 5196.284536055312, 2269.6770066791883, 8296.711923549945, 4157.637176773942, 3316.55102102433, 4336.913543160274, 2305.0586709227427, 2065.3923244037874, 1715.9836743526396, 1649.0354049529458, 1548.0348459944103, 1397.19766242805, 1384.6160886922528, 1367.8315644849854, 1298.348930031634, 1263.9085804091444, 1260.2140022625656, 1195.1608441250157, 1123.174014274817, 1088.3201373215888, 1102.8715378851048, 1098.5727766103485, 1022.2452215208086, 1019.0805618092194, 931.820532973578, 912.9172571711671, 889.6836363802955, 867.479394283841, 844.1384506507396, 764.0074591580317, 893.3958145460662, 751.952999451804, 2532.7017084658205, 4970.733458248829, 31291.841112950126, 13801.140018623475, 1797.4619457602614, 2842.6865606469087, 34228.35578362711, 12022.15050846628, 4986.949759190126, 4865.311176339513, 7337.637930124694, 4884.7522134098945, 4016.249076314296, 3747.310484437176, 3679.2470945024215, 3047.506328430065, 2588.0184165296664, 2177.591607122962, 2146.39219988355, 1941.8783600353997, 1924.2730417892592, 1807.031308928121, 1634.948228123134, 1509.7509311670597, 1443.3634891460379, 1310.9850512958758, 1210.5167869222716, 1135.6629172562498, 1117.0186468154368, 1056.3724129472532, 999.0966151896157, 985.9374758714505, 947.9758325100204, 892.8478894997345, 893.2434018507545, 888.8999069723375, 850.4538426927401, 822.3996355253746, 814.1368853524866, 811.323761482977, 813.4383030047472, 1073.870580535113, 2436.649843022448, 2456.833820824066, 34228.35578362711, 2196.213645741586, 32687.01375872645, 1780.0538559309903, 1568.5246835174758], \"Category\": [\"Default\", \"Default\", \"Default\", \"Default\", \"Default\", \"Default\", \"Default\", \"Default\", \"Default\", \"Default\", \"Default\", \"Default\", \"Default\", \"Default\", \"Default\", \"Default\", \"Default\", \"Default\", \"Default\", \"Default\", \"Default\", \"Default\", \"Default\", \"Default\", \"Default\", \"Default\", \"Default\", \"Default\", \"Default\", \"Default\", \"Topic1\", \"Topic1\", \"Topic1\", \"Topic1\", \"Topic1\", \"Topic1\", \"Topic1\", \"Topic1\", \"Topic1\", \"Topic1\", \"Topic1\", \"Topic1\", \"Topic1\", \"Topic1\", \"Topic1\", \"Topic1\", \"Topic1\", \"Topic1\", \"Topic1\", \"Topic1\", \"Topic1\", \"Topic1\", \"Topic1\", \"Topic1\", \"Topic1\", \"Topic1\", \"Topic1\", \"Topic1\", \"Topic1\", \"Topic1\", \"Topic1\", \"Topic1\", \"Topic1\", \"Topic1\", \"Topic1\", \"Topic1\", \"Topic1\", \"Topic1\", \"Topic1\", \"Topic1\", \"Topic1\", \"Topic1\", \"Topic1\", \"Topic2\", \"Topic2\", \"Topic2\", \"Topic2\", \"Topic2\", \"Topic2\", \"Topic2\", \"Topic2\", \"Topic2\", \"Topic2\", \"Topic2\", \"Topic2\", \"Topic2\", \"Topic2\", \"Topic2\", \"Topic2\", \"Topic2\", \"Topic2\", \"Topic2\", \"Topic2\", \"Topic2\", \"Topic2\", \"Topic2\", \"Topic2\", \"Topic2\", \"Topic2\", \"Topic2\", \"Topic2\", \"Topic2\", \"Topic2\", \"Topic2\", \"Topic2\", \"Topic2\", \"Topic2\", \"Topic2\", \"Topic2\", \"Topic2\", \"Topic2\", \"Topic2\", \"Topic2\", \"Topic2\", \"Topic2\", \"Topic2\", \"Topic2\", \"Topic2\", \"Topic2\", \"Topic2\", \"Topic3\", \"Topic3\", \"Topic3\", \"Topic3\", \"Topic3\", \"Topic3\", \"Topic3\", \"Topic3\", \"Topic3\", \"Topic3\", \"Topic3\", \"Topic3\", \"Topic3\", \"Topic3\", \"Topic3\", \"Topic3\", \"Topic3\", \"Topic3\", \"Topic3\", \"Topic3\", \"Topic3\", \"Topic3\", \"Topic3\", \"Topic3\", \"Topic3\", \"Topic3\", \"Topic3\", \"Topic3\", \"Topic3\", \"Topic3\", \"Topic3\", \"Topic3\", \"Topic3\", \"Topic3\", \"Topic3\", \"Topic3\", \"Topic3\", \"Topic3\", \"Topic3\", \"Topic3\", \"Topic3\", \"Topic3\", \"Topic3\", \"Topic4\", \"Topic4\", \"Topic4\", \"Topic4\", \"Topic4\", \"Topic4\", \"Topic4\", \"Topic4\", \"Topic4\", \"Topic4\", \"Topic4\", \"Topic4\", \"Topic4\", \"Topic4\", \"Topic4\", \"Topic4\", \"Topic4\", \"Topic4\", \"Topic4\", \"Topic4\", \"Topic4\", \"Topic4\", \"Topic4\", \"Topic4\", \"Topic4\", \"Topic4\", \"Topic4\", \"Topic4\", \"Topic4\", \"Topic4\", \"Topic4\", \"Topic4\", \"Topic4\", \"Topic4\", \"Topic4\", \"Topic4\", \"Topic4\", \"Topic4\", \"Topic4\", \"Topic4\", \"Topic4\", \"Topic5\", \"Topic5\", \"Topic5\", \"Topic5\", \"Topic5\", \"Topic5\", \"Topic5\", \"Topic5\", \"Topic5\", \"Topic5\", \"Topic5\", \"Topic5\", \"Topic5\", \"Topic5\", \"Topic5\", \"Topic5\", \"Topic5\", \"Topic5\", \"Topic5\", \"Topic5\", \"Topic5\", \"Topic5\", \"Topic5\", \"Topic5\", \"Topic5\", \"Topic5\", \"Topic5\", \"Topic5\", \"Topic5\", \"Topic5\", \"Topic5\", \"Topic5\", \"Topic5\", \"Topic5\", \"Topic5\", \"Topic5\", \"Topic5\", \"Topic5\"], \"logprob\": [30.0, 29.0, 28.0, 27.0, 26.0, 25.0, 24.0, 23.0, 22.0, 21.0, 20.0, 19.0, 18.0, 17.0, 16.0, 15.0, 14.0, 13.0, 12.0, 11.0, 10.0, 9.0, 8.0, 7.0, 6.0, 5.0, 4.0, 3.0, 2.0, 1.0, -3.146, -3.2282, -3.3865, -3.4007, -3.7395, -4.0734, -4.2824, -4.3553, -4.3941, -4.4848, -4.4973, -4.7679, -4.8457, -4.9559, -4.9544, -5.0102, -5.1994, -5.2129, -5.2616, -5.4792, -5.5113, -5.6139, -5.6298, -5.6229, -5.6844, -5.6311, -5.7622, -5.8386, -5.8809, -5.9537, -2.4875, -5.206, -2.8091, -2.8157, -2.8779, -4.4275, -4.6695, -4.7721, -5.3225, -4.8832, -5.1302, -5.2077, -5.1759, -4.4784, -4.4987, -4.5535, -4.6773, -4.8314, -4.951, -5.0089, -5.0473, -5.0649, -5.0072, -5.1715, -5.2643, -5.2509, -5.3096, -5.3797, -5.4141, -5.4155, -5.4155, -5.4061, -5.5641, -5.5821, -5.622, -5.6979, -5.7145, -5.7127, -5.6947, -5.7404, -5.7646, -5.7803, -5.8138, -3.3541, -3.8865, -3.9639, -4.4447, -5.0885, -4.9986, -5.165, -4.8503, -5.0321, -4.8552, -4.624, -5.067, -5.0757, -4.9756, -5.2553, -5.3188, -5.2851, -3.9895, -4.0164, -4.2228, -4.5132, -4.5683, -4.5605, -4.6011, -4.6105, -4.6373, -4.6692, -4.6999, -4.7251, -4.6708, -4.7898, -4.8988, -4.995, -5.0396, -5.1106, -5.1328, -5.1609, -5.206, -5.2038, -4.8288, -5.3364, -5.3749, -5.3912, -5.3907, -5.4213, -5.5742, -5.6329, -3.4884, -3.2173, -3.2921, -2.6518, -4.5838, -5.0186, -3.8144, -4.3142, -4.8152, -4.7742, -4.7005, -4.7582, -4.9847, -3.2652, -3.9562, -4.1823, -3.9141, -4.5463, -4.6561, -4.8415, -4.8814, -4.9446, -5.0472, -5.0562, -5.0684, -5.1206, -5.1475, -5.1504, -5.2035, -5.2657, -5.2972, -5.284, -5.2879, -5.3599, -5.363, -5.4526, -5.4731, -5.4989, -5.5242, -5.5516, -5.6514, -5.495, -5.6673, -4.5866, -4.2373, -3.1692, -3.7085, -5.1153, -4.9015, -3.7487, -4.4402, -4.8188, -5.0085, -5.0645, -3.5815, -3.7773, -3.8466, -3.865, -4.0534, -4.2169, -4.3896, -4.4041, -4.5042, -4.5134, -4.5762, -4.6764, -4.7561, -4.8011, -4.8973, -4.9771, -5.041, -5.0576, -5.1134, -5.1692, -5.1825, -5.2218, -5.2818, -5.2813, -5.2862, -5.3305, -5.3641, -5.3742, -5.3776, -5.375, -5.0983, -4.6566, -4.6599, -3.2076, -4.891, -4.4145, -5.1719, -5.2433], \"loglift\": [30.0, 29.0, 28.0, 27.0, 26.0, 25.0, 24.0, 23.0, 22.0, 21.0, 20.0, 19.0, 18.0, 17.0, 16.0, 15.0, 14.0, 13.0, 12.0, 11.0, 10.0, 9.0, 8.0, 7.0, 6.0, 5.0, 4.0, 3.0, 2.0, 1.0, 1.2465, 1.2465, 1.2465, 1.2465, 1.2465, 1.2464, 1.2464, 1.2464, 1.2464, 1.2463, 1.2463, 1.2463, 1.2462, 1.2462, 1.2462, 1.2462, 1.2461, 1.2461, 1.2461, 1.2459, 1.2459, 1.2458, 1.2458, 1.2458, 1.2458, 1.2458, 1.2457, 1.2456, 1.2456, 1.2455, 1.1794, 1.1942, 0.9015, 0.8052, 0.6715, 0.9137, 0.8868, 0.922, 1.1318, 0.396, 0.735, 0.6123, -0.05, 1.4813, 1.4813, 1.4813, 1.4812, 1.4812, 1.4811, 1.4811, 1.4811, 1.4811, 1.4811, 1.481, 1.481, 1.481, 1.4809, 1.4809, 1.4809, 1.4809, 1.4809, 1.4809, 1.4807, 1.4807, 1.4807, 1.4806, 1.4806, 1.4806, 1.4806, 1.4806, 1.4805, 1.4805, 1.4805, 1.3638, 1.2744, 1.162, 1.1271, 1.2453, 1.1068, 1.1959, 0.8339, 0.9224, 0.6507, 0.0432, 0.4833, 0.4714, -0.233, 0.8714, 0.9555, 0.2712, 1.7245, 1.7244, 1.7244, 1.7243, 1.7243, 1.7243, 1.7243, 1.7243, 1.7243, 1.7242, 1.7242, 1.7242, 1.7242, 1.7242, 1.7241, 1.7241, 1.7241, 1.724, 1.724, 1.724, 1.724, 1.7239, 1.7239, 1.7239, 1.7238, 1.7238, 1.7238, 1.7238, 1.7236, 1.7235, 1.6002, 1.5254, 1.2371, 0.8976, 1.4235, 1.5661, 0.8527, 0.965, 1.3533, 1.207, 0.9836, 0.7477, 1.3496, 1.7728, 1.7727, 1.7727, 1.7726, 1.7725, 1.7725, 1.7724, 1.7724, 1.7723, 1.7723, 1.7723, 1.7722, 1.7722, 1.7722, 1.7722, 1.7722, 1.7721, 1.7721, 1.772, 1.772, 1.772, 1.772, 1.7719, 1.7719, 1.7719, 1.7719, 1.7718, 1.7717, 1.7717, 1.7717, 1.6381, 1.313, 0.5414, 0.8207, 1.4523, 1.2076, -0.1278, 0.227, 0.7283, 0.5633, 0.0964, 1.9863, 1.9862, 1.9862, 1.9862, 1.9862, 1.9861, 1.9861, 1.9861, 1.986, 1.986, 1.986, 1.9859, 1.9859, 1.9859, 1.9858, 1.9857, 1.9857, 1.9857, 1.9856, 1.9856, 1.9856, 1.9855, 1.9855, 1.9855, 1.9855, 1.9854, 1.9854, 1.9854, 1.9854, 1.9854, 1.9843, 1.6067, 1.5951, 0.4133, 1.4762, -0.7476, 1.4054, 1.4605]}, \"token.table\": {\"Topic\": [4, 2, 3, 4, 3, 5, 5, 2, 4, 5, 2, 4, 1, 1, 1, 1, 3, 1, 2, 2, 4, 2, 1, 5, 2, 5, 5, 2, 3, 4, 2, 4, 4, 1, 2, 1, 3, 2, 5, 5, 3, 4, 2, 4, 1, 4, 5, 1, 2, 3, 4, 1, 5, 3, 2, 4, 1, 2, 1, 2, 3, 4, 1, 2, 5, 3, 5, 5, 1, 4, 3, 2, 3, 4, 2, 3, 3, 4, 1, 4, 5, 1, 1, 1, 4, 1, 3, 1, 4, 1, 1, 2, 2, 5, 4, 4, 3, 4, 1, 1, 4, 4, 5, 5, 2, 5, 5, 3, 4, 1, 4, 2, 1, 4, 4, 3, 2, 1, 2, 3, 3, 2, 5, 3, 4, 3, 3, 2, 3, 3, 5, 5, 5, 4, 4, 2, 3, 2, 4, 4, 2, 5, 1, 5, 2, 3, 5, 4, 1, 3, 4, 4, 2, 4, 3, 2, 4, 5, 1, 2, 2, 3, 4, 3, 1, 3, 2, 5, 5, 1, 3, 4, 1, 3, 2, 1, 2, 3, 3, 1, 3, 4, 1, 1, 3, 1, 1, 2, 5, 2, 2, 4, 1, 3, 4, 5, 3, 2, 5, 2, 5, 3, 1, 5, 1, 3, 2, 3, 5, 5, 2, 4, 4, 2, 2, 1, 2, 3, 4, 5, 4, 3, 4, 2, 5, 2, 1, 5, 3, 2, 3, 3, 3, 1, 2, 3, 2, 1, 2, 1, 2, 1, 2, 5, 5, 1, 1, 4, 1, 4, 2, 2, 4, 5, 2, 1, 2, 2, 3], \"Freq\": [0.9993721147830811, 0.999305390438164, 0.9996501811874209, 0.9993920563711377, 0.9996960185602645, 0.9986035697768509, 0.9994663523521711, 0.0009312109095135998, 0.0009312109095135998, 0.998258094998579, 0.00023057872610282844, 0.9995587776557614, 0.999511795707546, 0.9998970720504705, 0.9997763975093725, 0.9999211383325818, 0.9994094796498656, 0.9993386337522202, 0.9991469374145846, 0.789644298970116, 0.21007268857152556, 0.9987824976270724, 0.9994167498021479, 0.9989706145699552, 0.999346176347415, 0.9989023932491178, 0.9996064879124654, 0.06047168651812739, 0.6898251647253051, 0.2493523863833895, 0.9994270581942019, 0.9987869954103415, 0.9986813490549661, 0.9997885397391332, 0.999753398231703, 0.9989212330045308, 0.9993698107246244, 0.9996068842020219, 0.9996889943102228, 0.9989876172049532, 0.9989050853654746, 0.9991428110279195, 0.12595245580389872, 0.8737704849342566, 0.9992878663727093, 0.9998338572146676, 0.9996502866675664, 0.13142407416105187, 0.23731195163384874, 0.4181448232959543, 0.2131066316459588, 0.935019644975693, 0.06494934091167086, 0.9995293961434644, 0.3685572794010578, 0.6312951652622922, 0.8917369091442527, 0.10830008144481733, 0.0005382191486428931, 0.18003430522104774, 0.8193489506173642, 0.9995550472818536, 0.2734466116004226, 0.7263836843283603, 0.999050353918393, 0.9988326261976952, 0.9986079921237837, 0.9994611724046825, 0.9994188784548763, 0.998954735188051, 0.9995544017924671, 0.3641504502132614, 0.2839410999460232, 0.3519185242975076, 0.9997704666774203, 0.9989397452125959, 0.8829022839626156, 0.11701878347178261, 0.6431509634631717, 0.14946671795573666, 0.20737192416923744, 0.9996452534163415, 0.9994257041052843, 0.999231887240616, 0.9990287130550486, 0.94872576263058, 0.05082459442663821, 0.9992599352079216, 0.9990366697557828, 0.9997433645547493, 0.9992836280154543, 0.9993022555631005, 0.31559725423909235, 0.6841360504766801, 0.9987326342836603, 0.9987818759192084, 0.9993009145409159, 0.9992315960951278, 0.9996330345054664, 0.9993735498975284, 0.9993258789686897, 0.3235872093837192, 0.6760734022469908, 0.9992486174461699, 0.9989239180380294, 0.9990553390353218, 0.9990880664182815, 0.6140797056303828, 0.38583769114829364, 0.9997678663748631, 0.9991194302502011, 0.9997355154056848, 0.4316339398743885, 0.5681245418884575, 0.9994267577440614, 0.9994746360039805, 0.9992917900656668, 0.5994694718524504, 0.3246781783182467, 0.07579499069398797, 0.999669354973356, 0.9992187596949462, 0.999502612549158, 0.9992104043723631, 0.9995407184484727, 0.9993266784331032, 0.999297144960453, 0.9992526088247151, 0.9991778781163184, 0.999304383907925, 0.9987008246992893, 0.9983683930561119, 0.9993384297541915, 0.9986513460560149, 0.9992097557556195, 0.9986987319377039, 0.9995466861808026, 0.2737192857743098, 0.7254673753042683, 0.9989396698850765, 0.3993236275990204, 0.6001237641681971, 0.9997257741881947, 0.9995140616458088, 0.9994538109741907, 0.999832242416605, 0.9995730857036806, 0.9992811343927658, 0.5626655390183826, 0.4373265269427417, 0.999331509883587, 0.9994786175094237, 0.8129319076252965, 0.1869811529357765, 0.9991700987622872, 0.13426560056240547, 0.3061705117427238, 0.5595336324692713, 0.9990990319666851, 0.9988451674809871, 0.5231908246176793, 0.4765061048825633, 0.9994473709842564, 0.9995885842228582, 0.9989449839543754, 0.9994883036843462, 0.9996617626765144, 0.9996610462764828, 0.9994292799892146, 0.9997034294511673, 0.8535480152748981, 0.14603142436400776, 0.9992859676948914, 0.9994175315410031, 0.9994287848574727, 0.29835076970475033, 0.5908922059242899, 0.1103773362190036, 0.9990926465837456, 0.4272307148973349, 0.46788282960031286, 0.10492847719561114, 0.9990522165004759, 0.3123792495203327, 0.6873224672097589, 0.9997279654212726, 0.6977929822927889, 0.29810007625211077, 0.004047523099146107, 0.9990720266853733, 0.9994538109741907, 0.9989952461036727, 0.5302767381197374, 0.26790434310371236, 0.04636299349680764, 0.15542139865407106, 0.9997598813760328, 0.9992779381027601, 0.9994200255966377, 0.9994381222749869, 0.9994162728691967, 0.9997765054696546, 0.9996070214209187, 0.9995476750483054, 0.7228628628079868, 0.2768806338261955, 0.13260868775973111, 0.27669312734482354, 0.5910012190061094, 0.9997283204430863, 0.7515576441868166, 0.2484076740870333, 0.9989610419815257, 0.9985758645156543, 0.9996319442219135, 0.09808765336435044, 0.5430619348675898, 0.21121064045608307, 0.06157327145499371, 0.0859161927278982, 0.9984376303052468, 0.9993442858983353, 0.9998467454597767, 0.999593987860353, 0.9998338548388427, 0.9994208128535492, 0.9999391800353219, 0.9998460078675374, 0.9998509401121305, 0.2598976710793577, 0.73997759895333, 0.9991954906701406, 0.9994474593761645, 0.18782651204487677, 0.4356959254811486, 0.3764228048768227, 0.9993359185319867, 0.312258370123817, 0.6875992392625466, 0.42820571723903045, 0.5716440855752574, 0.7168343190230351, 0.22376590423055123, 0.05924655232362516, 0.9990491528170974, 0.9999362553520992, 0.7081398604836167, 0.2918332598915288, 0.9999371181541122, 0.9999141920851893, 0.9997730486580992, 0.7014967545339659, 0.29823375060907836, 0.9998172748281646, 0.9992947799200416, 0.11104780127042711, 0.8889074588691872, 0.40393377596606583, 0.5958410105246565], \"Term\": [\"access\", \"administration\", \"admit\", \"adult\", \"advise\", \"afib_trumpbidenfirsttomention\", \"american\", \"ampe\", \"ampe\", \"ampe\", \"ampion\", \"ampion\", \"antibody\", \"antiviral\", \"approval\", \"approve\", \"article\", \"authorize\", \"await\", \"bad\", \"bad\", \"beat\", \"benefit\", \"bill_gate\", \"blood_clot\", \"business\", \"buy\", \"care\", \"care\", \"care\", \"cell\", \"cheap\", \"child\", \"clinical\", \"cocktail\", \"combination\", \"combine\", \"comeonlet_sgofda\", \"company\", \"conclude\", \"condition\", \"confirm\", \"continue\", \"continue\", \"coronavirus\", \"cost\", \"country\", \"covid\", \"covid\", \"covid\", \"covid\", \"covid19\", \"covid19\", \"critical\", \"cure\", \"cure\", \"datum\", \"datum\", \"day\", \"day\", \"day\", \"deal\", \"death\", \"death\", \"death_remdesivirorgandamage\", \"debate\", \"delayed_approvalsmore\", \"demand\", \"develop\", \"developed_aborte\", \"development\", \"dexamethasone\", \"dexamethasone\", \"dexamethasone\", \"die\", \"discharge\", \"doctor\", \"doctor\", \"drug\", \"drug\", \"drug\", \"effective\", \"effectiveness\", \"efficacy\", \"elect\", \"emergency\", \"emergency\", \"evidence\", \"expensive\", \"experimental\", \"explain\", \"feel\", \"fight\", \"fight\", \"final\", \"free\", \"friend\", \"fund\", \"gilead\", \"gileadscience\", \"global\", \"government\", \"government\", \"grant\", \"hear\", \"hero_fr24newsfromforbesmag\", \"hold\", \"hospital\", \"hospital\", \"hospitalize\", \"hospitalized\", \"huge\", \"hydroxychloroquine\", \"hydroxychloroquine\", \"ill\", \"improve\", \"ineffective\", \"infection\", \"infection\", \"infection\", \"injection\", \"kill\", \"leron_thepraise\", \"level\", \"lie\", \"life\", \"limit_sickest\", \"live\", \"lung\", \"major\", \"maker\", \"manufacture\", \"market\", \"mild\", \"millions_tax\", \"miracle\", \"moderate\", \"money\", \"money\", \"monoclonal_antibodie\", \"month\", \"month\", \"mortality\", \"network\", \"overdueapprovehalt_sufferingdeath\", \"oxygen\", \"panel\", \"patent\", \"patient\", \"patient\", \"pay\", \"payers_dollar\", \"people\", \"people\", \"person\", \"pharma\", \"pharma\", \"pharma\", \"phase\", \"plan\", \"plasma\", \"plasma\", \"play\", \"positive\", \"potential\", \"president\", \"prevent\", \"price\", \"produce\", \"prove\", \"provide\", \"provide\", \"publish\", \"push\", \"question\", \"rate\", \"rate\", \"rate\", \"realdonaldtrump\", \"receive\", \"receive\", \"receive\", \"recommend\", \"recover\", \"recover\", \"recovery\", \"reduce\", \"reduce\", \"reduce\", \"reject\", \"remdesivirkidneyliverdamage_afib\", \"replication\", \"report\", \"report\", \"report\", \"report\", \"require\", \"researcher\", \"rise\", \"risk\", \"sale\", \"save\", \"science\", \"sell\", \"severe\", \"severe\", \"share\", \"share\", \"share\", \"shortage\", \"sick\", \"sick\", \"sign\", \"spread\", \"standard_care\", \"start\", \"start\", \"start\", \"start\", \"start\", \"station\", \"status\", \"stay\", \"steroid\", \"stock\", \"story\", \"study\", \"supply\", \"survival\", \"symptom\", \"symptom\", \"taxpayer\", \"team\", \"test\", \"test\", \"test\", \"testing\", \"therapeutic\", \"therapeutic\", \"therapy\", \"therapy\", \"time\", \"time\", \"time\", \"tout\", \"treat\", \"treatment\", \"treatment\", \"trial\", \"trump\", \"update\", \"vaccine\", \"vaccine\", \"vial\", \"viral\", \"virus\", \"virus\", \"week\", \"week\"]}, \"R\": 30, \"lambda.step\": 0.01, \"plot.opts\": {\"xlab\": \"PC1\", \"ylab\": \"PC2\"}, \"topic.order\": [2, 5, 4, 1, 3]};\n",
       "\n",
       "function LDAvis_load_lib(url, callback){\n",
       "  var s = document.createElement('script');\n",
       "  s.src = url;\n",
       "  s.async = true;\n",
       "  s.onreadystatechange = s.onload = callback;\n",
       "  s.onerror = function(){console.warn(\"failed to load library \" + url);};\n",
       "  document.getElementsByTagName(\"head\")[0].appendChild(s);\n",
       "}\n",
       "\n",
       "if(typeof(LDAvis) !== \"undefined\"){\n",
       "   // already loaded: just create the visualization\n",
       "   !function(LDAvis){\n",
       "       new LDAvis(\"#\" + \"ldavis_el26814001405245966562722864409980\", ldavis_el26814001405245966562722864409980_data);\n",
       "   }(LDAvis);\n",
       "}else if(typeof define === \"function\" && define.amd){\n",
       "   // require.js is available: use it to load d3/LDAvis\n",
       "   require.config({paths: {d3: \"https://d3js.org/d3.v5\"}});\n",
       "   require([\"d3\"], function(d3){\n",
       "      window.d3 = d3;\n",
       "      LDAvis_load_lib(\"https://cdn.jsdelivr.net/gh/bmabey/pyLDAvis@3.3.1/pyLDAvis/js/ldavis.v3.0.0.js\", function(){\n",
       "        new LDAvis(\"#\" + \"ldavis_el26814001405245966562722864409980\", ldavis_el26814001405245966562722864409980_data);\n",
       "      });\n",
       "    });\n",
       "}else{\n",
       "    // require.js not available: dynamically load d3 & LDAvis\n",
       "    LDAvis_load_lib(\"https://d3js.org/d3.v5.js\", function(){\n",
       "         LDAvis_load_lib(\"https://cdn.jsdelivr.net/gh/bmabey/pyLDAvis@3.3.1/pyLDAvis/js/ldavis.v3.0.0.js\", function(){\n",
       "                 new LDAvis(\"#\" + \"ldavis_el26814001405245966562722864409980\", ldavis_el26814001405245966562722864409980_data);\n",
       "            })\n",
       "         });\n",
       "}\n",
       "</script>"
      ],
      "text/plain": [
       "PreparedData(topic_coordinates=              x         y  topics  cluster       Freq\n",
       "topic                                                \n",
       "1      0.055070  0.297684       1        1  28.748206\n",
       "4     -0.170578 -0.186220       2        1  22.727452\n",
       "3     -0.204969  0.121529       3        1  17.823340\n",
       "0     -0.022141 -0.155113       4        1  16.983150\n",
       "2      0.342619 -0.077880       5        1  13.717852, topic_info=            Term          Freq         Total Category  logprob  loglift\n",
       "9267     covid19  32687.000000  32687.000000  Default  30.0000  30.0000\n",
       "30563    patient  36764.000000  36764.000000  Default  29.0000  29.0000\n",
       "44027  treatment  31291.000000  31291.000000  Default  28.0000  28.0000\n",
       "2889     approve  15821.000000  15821.000000  Default  27.0000  27.0000\n",
       "13340       drug  34228.000000  34228.000000  Default  26.0000  26.0000\n",
       "...          ...           ...           ...      ...      ...      ...\n",
       "13340       drug   7098.457375  34228.355784   Topic5  -3.2076   0.4133\n",
       "26860      month   1318.461089   2196.213646   Topic5  -4.8910   1.4762\n",
       "9267     covid19   2123.137939  32687.013759   Topic5  -4.4145  -0.7476\n",
       "31244     pharma    995.580688   1780.053856   Topic5  -5.1719   1.4054\n",
       "38646      share    926.987731   1568.524684   Topic5  -5.2433   1.4605\n",
       "\n",
       "[242 rows x 6 columns], token_table=       Topic      Freq            Term\n",
       "term                                  \n",
       "777        4  0.999372          access\n",
       "1103       2  0.999305  administration\n",
       "1136       3  0.999650           admit\n",
       "1178       4  0.999392           adult\n",
       "1220       3  0.999696          advise\n",
       "...      ...       ...             ...\n",
       "46650      2  0.999295           viral\n",
       "46698      1  0.111048           virus\n",
       "46698      2  0.888907           virus\n",
       "47344      2  0.403934            week\n",
       "47344      3  0.595841            week\n",
       "\n",
       "[259 rows x 3 columns], R=30, lambda_step=0.01, plot_opts={'xlab': 'PC1', 'ylab': 'PC2'}, topic_order=[2, 5, 4, 1, 3])"
      ]
     },
     "execution_count": 10,
     "metadata": {},
     "output_type": "execute_result"
    }
   ],
   "source": [
    "# # Visualize the topics\n",
    "# import pyLDAvis.gensim_models\n",
    "# from gensim import corpora\n",
    "# from gensim.models import LdaModel\n",
    "# pyLDAvis.enable_notebook()\n",
    "# vis = pyLDAvis.gensim_models.prepare(model, corpus, id2word)\n",
    "# vis"
   ]
  },
  {
   "cell_type": "code",
   "execution_count": null,
   "metadata": {},
   "outputs": [],
   "source": [
    "def choose_topic(id2word,corpus,texts):#选择最合适的topic数：困惑度越低越好，一致性越高越好\n",
    "    '''\n",
    "    @description: 生成模型\n",
    "    @param \n",
    "    @return: 生成主题数分别为1-15的LDA主题模型，并保存起来。\n",
    "    '''\n",
    "    #dictionary = corpora.Dictionary(data_lemmatized)\n",
    "    id2word = Dictionary.load_from_text(\"id2word.txt\")#加载生成的dictionary\n",
    "    corpus = corpora.MmCorpus('ths_corpuse.mm')  # 加载\n",
    "    texts = data_lemmatized\n",
    "    coherence_values = []\n",
    "    perplexity_values = []\n",
    "    model_list = []\n",
    "    for i in range(2,20,2):\n",
    "        print('目前的topic个数:{}'.format(i))\n",
    "        print('目前的数据量:{}'.format(len(texts)))\n",
    "        temp = 'lda_{}_{}'.format(i,len(texts))\n",
    "        model = gensim.models.ldamodel.LdaModel(corpus, num_topics=i, id2word=id2word, passes=20)\n",
    "        file_path = './{}.model'.format(temp)\n",
    "        model.save(file_path)\n",
    "\n",
    "        \n",
    "        coherence_model_lda = CoherenceModel(model=model, texts=data_lemmatized, dictionary=id2word, coherence='c_v')\n",
    "        coherence_lda = coherence_model_lda.get_coherence()\n",
    "        print('\\nCoherence Score: ', coherence_lda)\n",
    "\n",
    "        perplexity_values.append(model.log_perplexity(corpus))\n",
    "        print('\\nPerplexity: ', model.log_perplexity(corpus))  # a measure of how good the model is. lower the better.\n",
    "\n",
    "        coherence_values.append(coherence_model_lda.get_coherence())\n",
    "        \n",
    "        print('------------------------------')\n",
    "    return model_list, coherence_values, perplexity_values"
   ]
  },
  {
   "cell_type": "code",
   "execution_count": null,
   "metadata": {},
   "outputs": [],
   "source": [
    "model_list, coherence_values, perplexity_values= choose_topic(id2word=id2word, corpus=corpus, texts=data_lemmatized)"
   ]
  },
  {
   "attachments": {},
   "cell_type": "markdown",
   "metadata": {},
   "source": [
    "#### 根据perplexity和coherence score选择最佳topic是15个 画五种药物topic分布图"
   ]
  },
  {
   "cell_type": "code",
   "execution_count": null,
   "metadata": {},
   "outputs": [],
   "source": [
    "model=gensim.models.ldamodel.LdaModel.load(\"/data1/data_8t/ivermectin/newlda/lda_15_1994827.model\")\n",
    "doc_lda=model[corpus]\n",
    "doc_topic = [a for a in model[corpus]]\n",
    "print(len(doc_topic))\n",
    "topic = []\n",
    "p = []\n",
    "for i in range(0,len(doc_topic)):\n",
    "    c = []\n",
    "    t = doc_topic[i]\n",
    "    c.append([a[1] for a in t])\n",
    "    m = max(c[0])\n",
    "    n = min(c[0])\n",
    "    if len(c[0])==1:\n",
    "        topic.append(t[0][0])\n",
    "        p.append(t[0][1])\n",
    "        #data.loc[i, 'topic'] = t[0][0]\n",
    "        #data.loc[i, 'p'] = t[0][1]\n",
    "    elif m == n:\n",
    "        topic.append(100)\n",
    "        p.append(0)              \n",
    "        #data.loc[i, 'topic'] = 100\n",
    "        #data.loc[i, 'p'] = 0\n",
    "    else:\n",
    "        for j in range(0, len(t)):\n",
    "            if m in t[j]:\n",
    "                topic.append(t[j][0])\n",
    "                p.append(t[j][1])\n",
    "                #data.loc[i, 'topic'] = t[j][0]\n",
    "                #data.loc[i, 'p'] = t[j][1]\n",
    "                break\n"
   ]
  },
  {
   "cell_type": "code",
   "execution_count": null,
   "metadata": {},
   "outputs": [],
   "source": [
    "from collections import Counter\n",
    "result = Counter(topic)\n",
    "print(result)\n",
    "counts = pd.DataFrame(result.items(), columns=['label', 'counts'])\n",
    "counts.sort_values(\"label\",inplace=True, ascending = True)\n",
    "counts=counts.reset_index(drop=True)\n",
    "counts.to_csv('iver.csv',index=False) #五种药物 以ivermectin为例 最后总结成ldaplt3.csv\n"
   ]
  },
  {
   "cell_type": "code",
   "execution_count": null,
   "metadata": {},
   "outputs": [],
   "source": [
    "data = pd.read_csv(\"/data1/data_8t/lwx/Drugtweets/药物分布/ivermectin.csv\",low_memory=False, keep_default_na=False, lineterminator='\\n')#原始文件\n",
    "data['topic'] = topic\n",
    "data['p'] = p\n",
    "data=data[['full_text','topic','p']]\n"
   ]
  },
  {
   "cell_type": "code",
   "execution_count": null,
   "metadata": {},
   "outputs": [],
   "source": [
    "for i in data[(data['topic']== 2) & (data['p']>0.7)]['full_text']: #看归属topic对应的推特\n",
    "    print(i)\n",
    "    print('--------------------------')"
   ]
  },
  {
   "attachments": {},
   "cell_type": "markdown",
   "metadata": {},
   "source": [
    "##### 绘图"
   ]
  },
  {
   "cell_type": "code",
   "execution_count": null,
   "metadata": {},
   "outputs": [],
   "source": [
    "import numpy as np\n",
    "import matplotlib.pyplot as plt\n",
    "import pandas as pd\n",
    "ldaplt=pd.read_csv('ldaplt3.csv')"
   ]
  },
  {
   "cell_type": "code",
   "execution_count": null,
   "metadata": {},
   "outputs": [],
   "source": [
    "import numpy as np\n",
    "import matplotlib.pyplot as plt\n",
    "plt.rcParams['font.sans-serif'] = ['SimHei']  # 用来正常显示中文标签\n",
    "plt.rcParams['axes.unicode_minus'] = False    # 用来正常显示负号\n",
    "# x轴上坐标的个数，也是data列表里面的列表内的元素个数。4也可以用len(data[0])代替。\n",
    "X = np.arange(15)\n",
    "fig = plt.figure(figsize=(15,28),dpi=300)\n",
    "ax = fig.add_axes([0.1,0.1,0.8,0.8])\n",
    "plt.xticks(fontsize=25)\n",
    "plt.yticks(fontsize=30)\n",
    "colors= [\"#91D1C2\",\"#F39B7F\",\"#E64B35\",\"#7E6148\",\"#8491B4\",\"#4DBBD5\",\"#3C5488\",\"#8491B4\",\"#91D1C2\",\"#DC0000\",\"#7E6148\"]\n",
    "'''\n",
    "F1、F2、F3画柱状图，共三个，第一个参数可以认为是labels，第二个参数是各自的y坐标，如果我们想要\n",
    "在某个柱状图下面设置x轴刻度值，就可以在该柱状图下面用tick_label设置。\n",
    "'''\n",
    "F5 = ax.barh(X + 0.00, ldaplt.iloc[:,5], color = colors[4], height = 0.18)\n",
    "F4 = ax.barh(X + 0.18, ldaplt.iloc[:,4], color = colors[3], height = 0.18)\n",
    "F3 = ax.barh(X + 0.36, ldaplt.iloc[:,3], color = colors[2], height = 0.18,tick_label=ldaplt['topics'])\n",
    "F2 = ax.barh(X + 0.54, ldaplt.iloc[:,2], color = colors[1], height = 0.18)\n",
    "F1 = ax.barh(X + 0.72, ldaplt.iloc[:,1], color = colors[0], height = 0.18)\n",
    "#F6 = ax.bar(X + 0.75, ldaplt.iloc[:,6], color = colors[5], height = 0.15)\n",
    "# 给柱状图设置图例，第一个参数是个元组，元组中每个元素代表一个柱状图，第二个参数是对应着的图例的名字。\n",
    "ax.legend((F1,F2,F3,F4,F5),('Ivermectin','Hydroxychloroquine','Remdesivir','Zinc','Vitamin D'),fontsize=30)\n",
    "#ax.legend((F1,F2,F3,F4,F5,F6),('Ivermectin','HCQ','Vit D','Remdesivir','Zinc','Total'),fontsize=20)\n",
    "#plt.xticks(rotation=30)\n",
    "plt.xticks(fontsize=30)\n",
    "plt.yticks(fontsize=30)\n",
    "plt.xlabel('Percentage of topics',fontsize=30)\n",
    "plt.ylabel('Topics',fontsize=30)\n",
    "#plt.title('Scatter',fontsize=30)\n",
    "fig.savefig('shu2.tif', bbox_inches = 'tight',transparent=True,dpi=300)\n",
    "plt.show()\n"
   ]
  }
 ],
 "metadata": {
  "interpreter": {
   "hash": "8281d227f4a4fbe0bb273c26055c6c313e3778e70fe7a3bb3ba7115eaaddce51"
  },
  "kernelspec": {
   "display_name": "lwx",
   "language": "python",
   "name": "lwx"
  },
  "language_info": {
   "codemirror_mode": {
    "name": "ipython",
    "version": 3
   },
   "file_extension": ".py",
   "mimetype": "text/x-python",
   "name": "python",
   "nbconvert_exporter": "python",
   "pygments_lexer": "ipython3",
   "version": "3.8.13"
  },
  "orig_nbformat": 4
 },
 "nbformat": 4,
 "nbformat_minor": 2
}
